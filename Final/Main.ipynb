{
 "cells": [
  {
   "cell_type": "markdown",
   "id": "23665570",
   "metadata": {},
   "source": [
    "# Implementation of Meshroom and PCL_based labeller\n",
    "\n",
    "Makes use of the local programs:\n",
    "- run_meshroom.py\n",
    "- preprocessing.py\n",
    "- pcl_imp.py\n",
    "- utils.py\n",
    "- mesh_cropper.py\n",
    "- pcl_imp.exe\n",
    "\n"
   ]
  },
  {
   "cell_type": "code",
   "execution_count": 2,
   "id": "92c133a5",
   "metadata": {},
   "outputs": [
    {
     "name": "stdout",
     "output_type": "stream",
     "text": [
      "Jupyter environment detected. Enabling Open3D WebVisualizer.\n",
      "[Open3D INFO] WebRTC GUI backend enabled.\n",
      "[Open3D INFO] WebRTCWindowSystem: HTTP handshake server disabled.\n"
     ]
    }
   ],
   "source": [
    "from run_meshroom import run_meshroom\n",
    "from preprocessing import Scene\n",
    "from pcl_imp import pcl_imp\n",
    "from mesh_cropper import mesh_cropper\n",
    "\n",
    "import open3d as o3d"
   ]
  },
  {
   "cell_type": "markdown",
   "id": "de440da2",
   "metadata": {},
   "source": [
    "# MESHROOM MESH CREATION\n",
    "\n",
    "Python code to run Meshroom on the command line. Go to the run_meshroom.py or use help command for more information about the function. A base directory is used. \n",
    "\n",
    "Note: Meshroom is often stopped by the antivirus, provide the necessary permissions for the .exe files in the meshroom directory. (..\\Meshroom-2021.1.0\\aliceVision\\bin)"
   ]
  },
  {
   "cell_type": "code",
   "execution_count": null,
   "id": "196edbc0",
   "metadata": {},
   "outputs": [],
   "source": [
    "help(run_meshroom)"
   ]
  },
  {
   "cell_type": "code",
   "execution_count": null,
   "id": "4ffc6455",
   "metadata": {},
   "outputs": [],
   "source": [
    "def meshroom_mod(base_dir):\n",
    "    images_name = 'images'\n",
    "    graph_name = 'graph_1.mg'\n",
    "    cache_name = 'MeshroomCache'\n",
    "    \n",
    "    ## Compute Mesh from meshroom graph pipeline.\n",
    "    \n",
    "    scene_base_dir = run_meshroom(base_dir,images_name, graph_name, cache_name)\n",
    "    \n",
    "    print('The mesh and pcd were created and stored at ' + scene_base_dir)\n",
    "    \n",
    "    return scene_base_dir"
   ]
  },
  {
   "cell_type": "markdown",
   "id": "9dff2396",
   "metadata": {},
   "source": [
    "# OPEN 3D BASED PREPROCESSING\n",
    "The mesh and pcd are loaded and then preprocessed using the local Scene class. Uncomment display to show both the mesh and pcd. Go to preprocessing.py for more information on which methods are applied or use help command. Mesh and pcd must be in the same directory."
   ]
  },
  {
   "cell_type": "code",
   "execution_count": null,
   "id": "41e1bf9c",
   "metadata": {},
   "outputs": [],
   "source": [
    "help(Scene)"
   ]
  },
  {
   "cell_type": "code",
   "execution_count": null,
   "id": "a57ecf94",
   "metadata": {},
   "outputs": [],
   "source": [
    "def preprocessing_mod(scene_base_dir):\n",
    "    # Load pcd and mesh \n",
    "    pcd_dir = scene_base_dir + r'\\sfm.ply'\n",
    "    mesh_dir = scene_base_dir + r'\\mesh.obj'    \n",
    "    pcd = o3d.io.read_point_cloud(pcd_dir)\n",
    "    mesh = o3d.io.read_triangle_mesh(mesh_dir,enable_post_processing=True)\n",
    "    \n",
    "    #Init Scene class\n",
    "    scene = Scene(mesh, pcd, scene_base_dir)\n",
    "    \n",
    "    # Preprocessing\n",
    "    scene.pcd_outlier_removal(nb_neighbors=100, std_ratio=0.6)\n",
    "    scene.floor_alignment()\n",
    "    scene.crop_dim()\n",
    "    scene.pcd_outlier_removal(nb_neighbors=100, std_ratio=0.6)\n",
    "    scene.pcd_outlier_removal(nb_neighbors=100, std_ratio=0.6)\n",
    "    scene.x_alignment(threshold = 0.05)\n",
    "    \n",
    "    #Verbosity\n",
    "    # scene.display_pcd()\n",
    "    # scene.display_mesh()\n",
    "    # utils.display_geo([scene.mesh,scene.pcd])\n",
    "   \n",
    "    #Save processed mesh and pcd, return corresponding directories\n",
    "    processed_mesh_dir = scene.save_mesh()\n",
    "    processed_pcd_dir = scene.save_pcd()\n",
    "    downsampled_processed_pcd_dir = scene.save_down_pcd(voxel_size = 0.02)\n",
    "    \n",
    "    return processed_mesh_dir, processed_pcd_dir, downsampled_processed_pcd_dir"
   ]
  },
  {
   "cell_type": "markdown",
   "id": "29ac2d89",
   "metadata": {},
   "source": [
    "# PCL BASED SEGMENTATION AND LABELLING\n",
    "The processed pcd is loaded to the C++ based labelling algoritm.\n",
    "This process only makes use of the pcd."
   ]
  },
  {
   "cell_type": "code",
   "execution_count": null,
   "id": "a7164eee",
   "metadata": {},
   "outputs": [],
   "source": [
    "help(pcl_imp)"
   ]
  },
  {
   "cell_type": "code",
   "execution_count": null,
   "id": "62a7c51b",
   "metadata": {},
   "outputs": [],
   "source": [
    "def pcl_mod(processed_pcd_dir):\n",
    "    #Executable directory\n",
    "    exe_dir = r'C:\\Users\\lfcas\\Documents\\Internship\\Final\\PCL\\Debug\\pcl_imp.exe'\n",
    "    \n",
    "    # defining parameters. If left at 0 the defaults will be chosen\n",
    "    dt = 0\n",
    "    pct = 0\n",
    "    rct = 0\n",
    "    min_cs = 0\n",
    "    sigma = 0\n",
    "    radius = 0\n",
    "    nn = 0\n",
    "    sw = 0\n",
    "    \n",
    "    #Setting up Vectors of parameters\n",
    "    color_RGS = [dt, pct, rct, min_cs]\n",
    "    min_cut = [sigma, radius, nn, sw]\n",
    "    \n",
    "    csv_dir = pcl_imp(exe_dir, processed_pcd_dir, color_RGS, min_cut)\n",
    "    \n",
    "    return csv_dir\n"
   ]
  },
  {
   "cell_type": "markdown",
   "id": "462d4129",
   "metadata": {},
   "source": [
    "# Mesh Cropper\n",
    "Crops meshes by given indices list from a .csv file, labels them and stores new meshes. The first column of the csv file represents the label, the rest are a list of point indices representing the cloud. The mesh cropper module has no hyperparameters, for more info go to mesh_cropper.py or use help function. It implements a standard statistical outlier removal that can be control outside the .py (use help() to know more).\n"
   ]
  },
  {
   "cell_type": "code",
   "execution_count": 3,
   "id": "03c24d64",
   "metadata": {},
   "outputs": [
    {
     "name": "stdout",
     "output_type": "stream",
     "text": [
      "Help on function mesh_cropper in module mesh_cropper:\n",
      "\n",
      "mesh_cropper(mesh_dir, pcd_dir, csv_dir, nb_neighbors=100, std_ratio=0.6)\n",
      "    Mesh Cropper\n",
      "    Crops meshes by given indices list, labels them and stores new mesh in .csv base directory.\n",
      "    \n",
      "    Parameters\n",
      "    ----------\n",
      "    mesh_dir : STRING\n",
      "        directory of mesh\n",
      "    pcd_dir : STRING\n",
      "        directory of point cloud\n",
      "    csv_dir : STRING\n",
      "        directory of .csv file\n",
      "    nb_neighbors : INT\n",
      "        number of neighbors for statistical outlier removal. default = 100\n",
      "    std_ratio : Float\n",
      "        Standard ratio for statistical outlier removal\n",
      "    \n",
      "    Returns\n",
      "    -------\n",
      "    None.\n",
      "\n"
     ]
    }
   ],
   "source": [
    "help(mesh_cropper)"
   ]
  },
  {
   "cell_type": "markdown",
   "id": "fc380d31",
   "metadata": {},
   "source": [
    "# Modules Implementation\n",
    "Once you have fixed the hyperparameters run the next cell to implement the whole code. You can limit the amount of modules you use depending on the intended outcome. For example: \n",
    "- If the intention is to create the mesh just use the meshroom module.\n",
    "- If the intention is to process existing mesh and pcd, only use the preprocessing module. Provide directly the required directories with the allowed file formats.\n",
    "- The pcl can also be implemented directly without preprocessing the mesh. Be aware that this most likely will require fine tunning the pcl arguments (use help(pcl_imp.py))"
   ]
  },
  {
   "cell_type": "code",
   "execution_count": null,
   "id": "62d1d4fc",
   "metadata": {},
   "outputs": [],
   "source": [
    "    base_dir = r'C:\\Users\\lfcas\\Documents\\Internship\\Final\\\\'\n",
    "    #base_dir: base directory where Meshroom program, meshroom .mg graph file, cache folder and output folder are located.\n",
    "    \n",
    "    sbd = meshroom_mod(base_dir)\n",
    "    \n",
    "    #sbd = r'C:\\Users\\lfcas\\Documents\\Internship\\Final\\Meshes\\1646649959'\n",
    "    #sbd: scene base directory\n",
    "    \n",
    "    \n",
    "    pmd, ppd, dppd = preprocessing_mod(sbd)\n",
    "    \n",
    "    #pmd: processed mesh directory\n",
    "    #ppd: processed pcd directory\n",
    "    #dppd: downsampled processed pcd directory\n",
    "    \n",
    "    #dppd = r'C:\\Users\\lfcas\\Documents\\Internship\\Final\\Meshes\\1646649959\\processed_pcd.pcd'\n",
    "    \n",
    "    csv_dir = pcl_mod(ppd)\n",
    "    \n",
    "    #csv_dir: .csv file directory\n",
    "    \n",
    "    \n",
    "    mesh_cropper(pmd, dppd, csv_dir)\n",
    "    \n",
    "    "
   ]
  },
  {
   "cell_type": "code",
   "execution_count": null,
   "id": "c5b8fd83",
   "metadata": {},
   "outputs": [],
   "source": []
  }
 ],
 "metadata": {
  "kernelspec": {
   "display_name": "Python 3 (ipykernel)",
   "language": "python",
   "name": "python3"
  },
  "language_info": {
   "codemirror_mode": {
    "name": "ipython",
    "version": 3
   },
   "file_extension": ".py",
   "mimetype": "text/x-python",
   "name": "python",
   "nbconvert_exporter": "python",
   "pygments_lexer": "ipython3",
   "version": "3.7.11"
  }
 },
 "nbformat": 4,
 "nbformat_minor": 5
}
