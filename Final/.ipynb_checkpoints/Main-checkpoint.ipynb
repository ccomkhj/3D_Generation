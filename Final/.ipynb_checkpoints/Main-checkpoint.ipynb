{
 "cells": [
  {
   "cell_type": "markdown",
   "id": "6c74181c",
   "metadata": {},
   "source": [
    "# Implementation of Meshroom and PCL_based labeller\n",
    "\n",
    "Makes use of the local programs:\n",
    "- run_meshroom.py\n",
    "- preprocessing.py\n",
    "- pcl_imp.py\n",
    "- utils.py\n",
    "- mesh_cropper.py\n",
    "- pcl_imp.exe\n",
    "\n"
   ]
  },
  {
   "cell_type": "code",
   "execution_count": 7,
   "id": "78b68a09",
   "metadata": {},
   "outputs": [],
   "source": [
    "from run_meshroom import run_meshroom\n",
    "from preprocessing import Scene\n",
    "from pcl_imp import pcl_imp\n",
    "from mesh_cropper import mesh_cropper\n",
    "\n",
    "import open3d as o3d"
   ]
  },
  {
   "cell_type": "markdown",
   "id": "4d17eb09",
   "metadata": {},
   "source": [
    "# MESHROOM MESH CREATION\n",
    "\n",
    "    Directories to run Meshroom. Go to the run_meshroom.py or use help command\n",
    "    for more information about the function. A base directory is used."
   ]
  },
  {
   "cell_type": "code",
   "execution_count": 2,
   "id": "ac3e05a8",
   "metadata": {},
   "outputs": [
    {
     "name": "stdout",
     "output_type": "stream",
     "text": [
      "Help on function run_meshroom in module run_meshroom:\n",
      "\n",
      "run_meshroom(base_dir, images_name, graph_name, cache_name, force=False)\n",
      "    Parameters\n",
      "    ----------\n",
      "    base_dir : STRING\n",
      "        Base directory \n",
      "    images_name : STRING\n",
      "        Name of folder with input images.\n",
      "    graph_name : STRING\n",
      "        Name of meshroom graph file (when creating from Meshroom UI)\n",
      "    cache_name : STRING\n",
      "        Name of meshroom cache folder.\n",
      "    \n",
      "    force : BOOLEAN, optional\n",
      "        Set as true if the computations wants to be forced. The default is False.\n",
      "    \n",
      "    Returns\n",
      "    -------\n",
      "    output_dir : STRING\n",
      "    Directory for the outputted mesh. Used for further processing.\n",
      "\n"
     ]
    }
   ],
   "source": [
    "help(run_meshroom)"
   ]
  },
  {
   "cell_type": "code",
   "execution_count": 3,
   "id": "7ca614d7",
   "metadata": {},
   "outputs": [],
   "source": [
    "def meshroom_mod(base_dir):\n",
    "    images_name = 'images'\n",
    "    graph_name = 'graph_1.mg'\n",
    "    cache_name = 'MeshroomCache'\n",
    "    \n",
    "    ## Compute Mesh from meshroom graph pipeline.\n",
    "    \n",
    "    scene_base_dir = run_meshroom(base_dir,images_name, graph_name, cache_name)\n",
    "    # scene_base_dir = r'C:\\Users\\lfcas\\Documents\\Internship\\Final\\Meshes\\1646154083'\n",
    "    \n",
    "    print('The mesh and pcd were created and stored at ' + scene_base_dir)\n",
    "    return scene_base_dir"
   ]
  },
  {
   "cell_type": "markdown",
   "id": "06001dfb",
   "metadata": {},
   "source": [
    "# OPEN 3D BASED PREPROCESSING\n",
    "The mesh and pcd are loaded and then preprocessed using the local Scene class. Uncomment display to show both the mesh and pcd. Go to preprocessing.py for more information on which methods are applied or use help command. \n"
   ]
  },
  {
   "cell_type": "code",
   "execution_count": null,
   "id": "d8841f6b",
   "metadata": {},
   "outputs": [],
   "source": [
    "help(Scene)"
   ]
  },
  {
   "cell_type": "code",
   "execution_count": 5,
   "id": "8f29d178",
   "metadata": {},
   "outputs": [],
   "source": [
    "def preprocessing_mod(scene_base_dir):\n",
    "    # Load pcd and mesh \n",
    "    pcd_dir = scene_base_dir + r'\\sfm.ply'\n",
    "    mesh_dir = scene_base_dir + r'\\mesh.obj'\n",
    "    \n",
    "    \n",
    "    pcd = o3d.io.read_point_cloud(pcd_dir)\n",
    "    mesh = o3d.io.read_triangle_mesh(mesh_dir,enable_post_processing=True)\n",
    "    \n",
    "    #Init Scene class\n",
    "    scene = Scene(mesh, pcd, scene_base_dir)\n",
    "    \n",
    "    # Preprocessing\n",
    "    scene.pcd_outlier_removal(nb_neighbors=20, std_ratio=1)\n",
    "    scene.floor_alignment()\n",
    "    scene.crop_dim()\n",
    "    scene.pcd_outlier_removal(nb_neighbors=20, std_ratio=1.5)\n",
    "    scene.x_alignment(threshold = 0.05)\n",
    "    \n",
    "    #Verbosity\n",
    "    # scene.display_pcd()\n",
    "    # scene.display_mesh()\n",
    "    # utils.display_geo([scene.mesh,scene.pcd])\n",
    "   \n",
    "    #Save mesh and pcd\n",
    "    processed_mesh_dir = scene.save_mesh()\n",
    "    processed_pcd_dir = scene.save_pcd()\n",
    "    \n",
    "    return processed_mesh_dir, processed_pcd_dir"
   ]
  },
  {
   "cell_type": "markdown",
   "id": "6ad8a28b",
   "metadata": {},
   "source": [
    "# PCL BASED SEGMENTATION AND LABELLING\n",
    "The processed pcd is loaded to the C++ based labelling algoritm.\n",
    "This process only makes use of the pcd."
   ]
  },
  {
   "cell_type": "code",
   "execution_count": 8,
   "id": "ed4ba8eb",
   "metadata": {},
   "outputs": [
    {
     "name": "stdout",
     "output_type": "stream",
     "text": [
      "Help on function pcl_imp in module pcl_imp:\n",
      "\n",
      "pcl_imp(exe_dir, pcd_dir, color_RGS=[0, 0, 0, 0], min_cut=[0, 0, 0, 0])\n",
      "    Parameters\n",
      "    ----------\n",
      "    exe_dir : STRING\n",
      "        Direction of the executable\n",
      "    pcd_base_dir : STRING\n",
      "        Direction of the point cloud base directory\n",
      "    pcd_name : STRING\n",
      "        .pcd file name including extension\n",
      "    color_RGS : [4,1] VECTOR OF FLOATS\n",
      "        Color RGS hyperparameters in the order [Distance Threshold, Point Color Threshold, \n",
      "                                                Region Color Threshold, Minimum Cluster Size]\n",
      "    min_cut : [4,1] VECTOR OF FLOATS\n",
      "        min cut hyperparameters in the order [Sigma, Radius, Number of Neighbors,\n",
      "                                              Source Weight]\n",
      "    \n",
      "    Returns\n",
      "    -------\n",
      "    output_dir : STRING\n",
      "        Direction of the outputed .csv file.\n",
      "\n"
     ]
    }
   ],
   "source": [
    "help(pcl_imp)"
   ]
  },
  {
   "cell_type": "code",
   "execution_count": 9,
   "id": "d4138713",
   "metadata": {},
   "outputs": [],
   "source": [
    "def pcl_mod(processed_pcd_dir):\n",
    "    exe_dir = r'C:\\Users\\lfcas\\Documents\\Internship\\Final\\PCL\\Debug\\pcl_imp.exe' #Executable direction\n",
    "    \n",
    "    # defining parameters. If left at 0 the defaults will be chosen\n",
    "    dt = 0\n",
    "    pct = 0\n",
    "    rct = 0\n",
    "    min_cs = 0\n",
    "    sigma = 0\n",
    "    radius = 0\n",
    "    nn = 0\n",
    "    sw = 0\n",
    "    \n",
    "    #Setting up Vectors of parameters\n",
    "    color_RGS = [dt, pct, rct, min_cs]\n",
    "    min_cut = [sigma, radius, nn, sw]\n",
    "    \n",
    "    csv_dir = pcl_imp(exe_dir, processed_pcd_dir, color_RGS, min_cut)\n",
    "    \n",
    "    return csv_dir\n"
   ]
  },
  {
   "cell_type": "markdown",
   "id": "3b5e2a64",
   "metadata": {},
   "source": [
    "# Mesh Cropper\n",
    "Crops meshes by given indices list from a .csv file, labels them and stores new meshes."
   ]
  },
  {
   "cell_type": "code",
   "execution_count": 11,
   "id": "1ab80e5c",
   "metadata": {},
   "outputs": [
    {
     "name": "stdout",
     "output_type": "stream",
     "text": [
      "Help on function mesh_cropper in module mesh_cropper:\n",
      "\n",
      "mesh_cropper(mesh_dir, pcd_dir, csv_dir)\n",
      "    Mesh Cropper\n",
      "    Crops meshes by given indices list, labels them and stores new mesh.\n",
      "    \n",
      "    Parameters\n",
      "    ----------\n",
      "    mesh_dir : STRING\n",
      "        directory of mesh\n",
      "    pcd_dir : STRING\n",
      "        directory of point cloud\n",
      "    csv_dir : STRING\n",
      "        directory of .csv file\n",
      "    \n",
      "    Returns\n",
      "    -------\n",
      "    None.\n",
      "\n"
     ]
    }
   ],
   "source": [
    "help(mesh_cropper)"
   ]
  },
  {
   "cell_type": "markdown",
   "id": "0ca9b915",
   "metadata": {},
   "source": [
    "# Modules Implementation\n",
    "Once you have fixed the hyperparameters run the next cell to implement the whole code. You can limit the amount of modules you use depending on the intended outcome. For example: \n",
    "- If the intention is to create the mesh just use the meshroom module.\n",
    "- If the intention is to process existing mesh and pcd, only use the preprocessing module. Provide directly the required directories with the allowed file formats.\n",
    "- The pcl directly can also be implemented without preprocessing the mesh. Be aware that this most likely will require fine tunning the pcl arguments (use help(pcl_imp.py))"
   ]
  },
  {
   "cell_type": "code",
   "execution_count": null,
   "id": "0cdd79bc",
   "metadata": {},
   "outputs": [],
   "source": [
    "    base_dir = r'C:\\Users\\lfcas\\Documents\\Internship\\Final\\\\'\n",
    "    \n",
    "    sbd = meshroom_mod(base_dir)\n",
    "    \n",
    "    pmd, ppd = preprocessing_mod(sbd)\n",
    "    \n",
    "    csv_dir = pcl_mod(ppd)\n",
    "    \n",
    "    # mesh cropper module has no hyperparameters so it is left out, for more info go to mesh_cropper.py or use help function\n",
    "    mesh_cropper(pmd, ppd, csv_dir)\n",
    "    "
   ]
  }
 ],
 "metadata": {
  "kernelspec": {
   "display_name": "Python 3 (ipykernel)",
   "language": "python",
   "name": "python3"
  },
  "language_info": {
   "codemirror_mode": {
    "name": "ipython",
    "version": 3
   },
   "file_extension": ".py",
   "mimetype": "text/x-python",
   "name": "python",
   "nbconvert_exporter": "python",
   "pygments_lexer": "ipython3",
   "version": "3.7.11"
  }
 },
 "nbformat": 4,
 "nbformat_minor": 5
}
