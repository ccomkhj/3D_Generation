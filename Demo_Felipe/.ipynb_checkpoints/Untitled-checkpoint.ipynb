{
 "cells": [
  {
   "cell_type": "markdown",
   "id": "0447bdd8",
   "metadata": {},
   "source": [
    "# Program to run code"
   ]
  },
  {
   "cell_type": "code",
   "execution_count": 1,
   "id": "abbba70d",
   "metadata": {},
   "outputs": [
    {
     "name": "stdout",
     "output_type": "stream",
     "text": [
      "Jupyter environment detected. Enabling Open3D WebVisualizer.\n",
      "[Open3D INFO] WebRTC GUI backend enabled.\n",
      "[Open3D INFO] WebRTCWindowSystem: HTTP handshake server disabled.\n"
     ]
    }
   ],
   "source": [
    "import view \n",
    "import match\n",
    "from sfm import SFM\n",
    "import os\n",
    "import numpy as np\n",
    "import logging\n"
   ]
  },
  {
   "cell_type": "code",
   "execution_count": 6,
   "id": "0b68258a",
   "metadata": {},
   "outputs": [],
   "source": [
    "root_path = r'C:\\Users\\lfcas\\Documents\\Internship\\3D_Generation\\Demo_Felipe\\Plants\\Fountain'\n",
    "logging.basicConfig(level=logging.DEBUG)"
   ]
  },
  {
   "cell_type": "code",
   "execution_count": 11,
   "id": "6cae76c8",
   "metadata": {},
   "outputs": [
    {
     "name": "stderr",
     "output_type": "stream",
     "text": [
      "INFO:root:Creating View objects of C:\\Users\\lfcas\\Documents\\Internship\\3D_Generation\\Demo_Felipe\\Plants\\Fountain\n",
      "INFO:root:Reading features from file for image 0000\n",
      "INFO:root:Reading features from file for image 0001\n",
      "INFO:root:Reading features from file for image 0002\n",
      "INFO:root:Reading features from file for image 0003\n",
      "INFO:root:Reading features from file for image 0004\n",
      "INFO:root:Reading features from file for image 0005\n",
      "INFO:root:Reading features from file for image 0006\n",
      "INFO:root:Reading features from file for image 0007\n",
      "INFO:root:Reading features from file for image 0008\n",
      "INFO:root:Reading features from file for image 0009\n",
      "INFO:root:Reading features from file for image 0010\n"
     ]
    }
   ],
   "source": [
    "n = 11 #Number of images to use\n",
    "views = view.create_views(root_path, n)\n",
    "for v in views:\n",
    "    v.create_features()"
   ]
  },
  {
   "cell_type": "code",
   "execution_count": 12,
   "id": "a30f2954",
   "metadata": {},
   "outputs": [
    {
     "name": "stderr",
     "output_type": "stream",
     "text": [
      "INFO:root:Performing norm L2 matching\n",
      "INFO:root:Reading matches from file for view pair pair 0000 0001\n",
      "INFO:root:Performing norm L2 matching\n",
      "INFO:root:Reading matches from file for view pair pair 0000 0002\n",
      "INFO:root:Performing norm L2 matching\n",
      "INFO:root:Reading matches from file for view pair pair 0000 0003\n",
      "INFO:root:Performing norm L2 matching\n",
      "INFO:root:Reading matches from file for view pair pair 0000 0004\n",
      "INFO:root:Performing norm L2 matching\n",
      "INFO:root:Reading matches from file for view pair pair 0000 0005\n",
      "INFO:root:Performing norm L2 matching\n",
      "INFO:root:Reading matches from file for view pair pair 0000 0006\n",
      "INFO:root:Performing norm L2 matching\n",
      "INFO:root:Reading matches from file for view pair pair 0000 0007\n",
      "INFO:root:Performing norm L2 matching\n",
      "INFO:root:Reading matches from file for view pair pair 0000 0008\n",
      "INFO:root:Performing norm L2 matching\n",
      "INFO:root:Reading matches from file for view pair pair 0000 0009\n",
      "INFO:root:Performing norm L2 matching\n",
      "INFO:root:Reading matches from file for view pair pair 0000 0010\n",
      "INFO:root:Performing norm L2 matching\n",
      "INFO:root:Reading matches from file for view pair pair 0001 0002\n",
      "INFO:root:Performing norm L2 matching\n",
      "INFO:root:Reading matches from file for view pair pair 0001 0003\n",
      "INFO:root:Performing norm L2 matching\n",
      "INFO:root:Reading matches from file for view pair pair 0001 0004\n",
      "INFO:root:Performing norm L2 matching\n",
      "INFO:root:Reading matches from file for view pair pair 0001 0005\n",
      "INFO:root:Performing norm L2 matching\n",
      "INFO:root:Reading matches from file for view pair pair 0001 0006\n",
      "INFO:root:Performing norm L2 matching\n",
      "INFO:root:Reading matches from file for view pair pair 0001 0007\n",
      "INFO:root:Performing norm L2 matching\n",
      "INFO:root:Reading matches from file for view pair pair 0001 0008\n",
      "INFO:root:Performing norm L2 matching\n",
      "INFO:root:Reading matches from file for view pair pair 0001 0009\n",
      "INFO:root:Performing norm L2 matching\n",
      "INFO:root:Reading matches from file for view pair pair 0001 0010\n",
      "INFO:root:Performing norm L2 matching\n",
      "INFO:root:Reading matches from file for view pair pair 0002 0003\n",
      "INFO:root:Performing norm L2 matching\n",
      "INFO:root:Reading matches from file for view pair pair 0002 0004\n",
      "INFO:root:Performing norm L2 matching\n",
      "INFO:root:Reading matches from file for view pair pair 0002 0005\n",
      "INFO:root:Performing norm L2 matching\n",
      "INFO:root:Reading matches from file for view pair pair 0002 0006\n",
      "INFO:root:Performing norm L2 matching\n",
      "INFO:root:Reading matches from file for view pair pair 0002 0007\n",
      "INFO:root:Performing norm L2 matching\n",
      "INFO:root:Reading matches from file for view pair pair 0002 0008\n",
      "INFO:root:Performing norm L2 matching\n",
      "INFO:root:Reading matches from file for view pair pair 0002 0009\n",
      "INFO:root:Performing norm L2 matching\n",
      "INFO:root:Reading matches from file for view pair pair 0002 0010\n",
      "INFO:root:Performing norm L2 matching\n",
      "INFO:root:Reading matches from file for view pair pair 0003 0004\n",
      "INFO:root:Performing norm L2 matching\n",
      "INFO:root:Reading matches from file for view pair pair 0003 0005\n",
      "INFO:root:Performing norm L2 matching\n",
      "INFO:root:Reading matches from file for view pair pair 0003 0006\n",
      "INFO:root:Performing norm L2 matching\n",
      "INFO:root:Reading matches from file for view pair pair 0003 0007\n",
      "INFO:root:Performing norm L2 matching\n",
      "INFO:root:Reading matches from file for view pair pair 0003 0008\n",
      "INFO:root:Performing norm L2 matching\n",
      "INFO:root:Reading matches from file for view pair pair 0003 0009\n",
      "INFO:root:Performing norm L2 matching\n",
      "INFO:root:Reading matches from file for view pair pair 0003 0010\n",
      "INFO:root:Performing norm L2 matching\n",
      "INFO:root:Reading matches from file for view pair pair 0004 0005\n",
      "INFO:root:Performing norm L2 matching\n",
      "INFO:root:Reading matches from file for view pair pair 0004 0006\n",
      "INFO:root:Performing norm L2 matching\n",
      "INFO:root:Reading matches from file for view pair pair 0004 0007\n",
      "INFO:root:Performing norm L2 matching\n",
      "INFO:root:Reading matches from file for view pair pair 0004 0008\n",
      "INFO:root:Performing norm L2 matching\n",
      "INFO:root:Reading matches from file for view pair pair 0004 0009\n",
      "INFO:root:Performing norm L2 matching\n",
      "INFO:root:Reading matches from file for view pair pair 0004 0010\n",
      "INFO:root:Performing norm L2 matching\n",
      "INFO:root:Reading matches from file for view pair pair 0005 0006\n",
      "INFO:root:Performing norm L2 matching\n",
      "INFO:root:Reading matches from file for view pair pair 0005 0007\n",
      "INFO:root:Performing norm L2 matching\n",
      "INFO:root:Reading matches from file for view pair pair 0005 0008\n",
      "INFO:root:Performing norm L2 matching\n",
      "INFO:root:Reading matches from file for view pair pair 0005 0009\n",
      "INFO:root:Performing norm L2 matching\n",
      "INFO:root:Reading matches from file for view pair pair 0005 0010\n",
      "INFO:root:Performing norm L2 matching\n",
      "INFO:root:Reading matches from file for view pair pair 0006 0007\n",
      "INFO:root:Performing norm L2 matching\n",
      "INFO:root:Reading matches from file for view pair pair 0006 0008\n",
      "INFO:root:Performing norm L2 matching\n",
      "INFO:root:Reading matches from file for view pair pair 0006 0009\n",
      "INFO:root:Performing norm L2 matching\n",
      "INFO:root:Reading matches from file for view pair pair 0006 0010\n",
      "INFO:root:Performing norm L2 matching\n",
      "INFO:root:Reading matches from file for view pair pair 0007 0008\n",
      "INFO:root:Performing norm L2 matching\n",
      "INFO:root:Reading matches from file for view pair pair 0007 0009\n",
      "INFO:root:Performing norm L2 matching\n",
      "INFO:root:Reading matches from file for view pair pair 0007 0010\n",
      "INFO:root:Performing norm L2 matching\n",
      "INFO:root:Reading matches from file for view pair pair 0008 0009\n",
      "INFO:root:Performing norm L2 matching\n",
      "INFO:root:Reading matches from file for view pair pair 0008 0010\n",
      "INFO:root:Performing norm L2 matching\n",
      "INFO:root:Reading matches from file for view pair pair 0009 0010\n"
     ]
    }
   ],
   "source": [
    "matches = match.create_matches(views)"
   ]
  },
  {
   "cell_type": "code",
   "execution_count": 13,
   "id": "2f926a52",
   "metadata": {},
   "outputs": [
    {
     "name": "stderr",
     "output_type": "stream",
     "text": [
      "INFO:root:Computing pose of baseline 0000 and 0001\n",
      "INFO:root:Choosing correct pose out of 4 solutions\n",
      "INFO:root:Mean reprojection error for 1 image is 0.716229\n",
      "INFO:root:Mean reprojection error for 2 images is 0.734013\n",
      "INFO:root:Saved at C:\\Users\\lfcas\\Documents\\Internship\\3D_Generation\\Demo_Felipe\\Plants\\Fountain\\points\\2_images.ply\n",
      "INFO:root:Points plotted for 2.000000 views\n",
      "\n",
      "INFO:root:Computing pose and reconstructing points for view 0002\n",
      "INFO:root:Computing pose of new image 0002\n",
      "INFO:root:Mean reprojection error for 3 images is 0.419040\n",
      "INFO:root:Saved at C:\\Users\\lfcas\\Documents\\Internship\\3D_Generation\\Demo_Felipe\\Plants\\Fountain\\points\\3_images.ply\n",
      "INFO:root:Points plotted for 3 views\n",
      "\n",
      "INFO:root:Computing pose and reconstructing points for view 0003\n",
      "INFO:root:Computing pose of new image 0003\n",
      "INFO:root:Mean reprojection error for 4 images is 0.816131\n",
      "INFO:root:Saved at C:\\Users\\lfcas\\Documents\\Internship\\3D_Generation\\Demo_Felipe\\Plants\\Fountain\\points\\4_images.ply\n",
      "INFO:root:Points plotted for 4 views\n",
      "\n",
      "INFO:root:Computing pose and reconstructing points for view 0004\n",
      "INFO:root:Computing pose of new image 0004\n",
      "INFO:root:Mean reprojection error for 5 images is 1.669526\n",
      "INFO:root:Saved at C:\\Users\\lfcas\\Documents\\Internship\\3D_Generation\\Demo_Felipe\\Plants\\Fountain\\points\\5_images.ply\n",
      "INFO:root:Points plotted for 5 views\n",
      "\n",
      "INFO:root:Computing pose and reconstructing points for view 0005\n",
      "INFO:root:Computing pose of new image 0005\n",
      "INFO:root:Mean reprojection error for 6 images is 1.335090\n",
      "INFO:root:Saved at C:\\Users\\lfcas\\Documents\\Internship\\3D_Generation\\Demo_Felipe\\Plants\\Fountain\\points\\6_images.ply\n",
      "INFO:root:Points plotted for 6 views\n",
      "\n",
      "INFO:root:Computing pose and reconstructing points for view 0006\n",
      "INFO:root:Computing pose of new image 0006\n",
      "INFO:root:Mean reprojection error for 7 images is 1.860089\n",
      "INFO:root:Saved at C:\\Users\\lfcas\\Documents\\Internship\\3D_Generation\\Demo_Felipe\\Plants\\Fountain\\points\\7_images.ply\n",
      "INFO:root:Points plotted for 7 views\n",
      "\n",
      "INFO:root:Computing pose and reconstructing points for view 0007\n",
      "INFO:root:Computing pose of new image 0007\n",
      "INFO:root:Mean reprojection error for 8 images is 1.887285\n",
      "INFO:root:Saved at C:\\Users\\lfcas\\Documents\\Internship\\3D_Generation\\Demo_Felipe\\Plants\\Fountain\\points\\8_images.ply\n",
      "INFO:root:Points plotted for 8 views\n",
      "\n",
      "INFO:root:Computing pose and reconstructing points for view 0008\n",
      "INFO:root:Computing pose of new image 0008\n",
      "INFO:root:Mean reprojection error for 9 images is 7.538077\n",
      "INFO:root:Saved at C:\\Users\\lfcas\\Documents\\Internship\\3D_Generation\\Demo_Felipe\\Plants\\Fountain\\points\\9_images.ply\n",
      "INFO:root:Points plotted for 9 views\n",
      "\n",
      "INFO:root:Computing pose and reconstructing points for view 0009\n",
      "INFO:root:Computing pose of new image 0009\n",
      "INFO:root:Mean reprojection error for 10 images is 2254.773210\n",
      "INFO:root:Saved at C:\\Users\\lfcas\\Documents\\Internship\\3D_Generation\\Demo_Felipe\\Plants\\Fountain\\points\\10_images.ply\n",
      "INFO:root:Points plotted for 10 views\n",
      "\n",
      "INFO:root:Computing pose and reconstructing points for view 0010\n",
      "INFO:root:Computing pose of new image 0010\n",
      "INFO:root:Mean reprojection error for 11 images is 501.874805\n",
      "INFO:root:Saved at C:\\Users\\lfcas\\Documents\\Internship\\3D_Generation\\Demo_Felipe\\Plants\\Fountain\\points\\11_images.ply\n",
      "INFO:root:Points plotted for 11 views\n",
      "\n"
     ]
    }
   ],
   "source": [
    "# Get Camera Matrix\n",
    "K = np.loadtxt(os.path.join(root_path, 'images', 'K.txt'))\n",
    "\n",
    "structure = SFM(views, matches, K)\n",
    "structure.reconstruct()"
   ]
  },
  {
   "cell_type": "code",
   "execution_count": null,
   "id": "1201aae8",
   "metadata": {},
   "outputs": [],
   "source": []
  }
 ],
 "metadata": {
  "kernelspec": {
   "display_name": "Python 3 (ipykernel)",
   "language": "python",
   "name": "python3"
  },
  "language_info": {
   "codemirror_mode": {
    "name": "ipython",
    "version": 3
   },
   "file_extension": ".py",
   "mimetype": "text/x-python",
   "name": "python",
   "nbconvert_exporter": "python",
   "pygments_lexer": "ipython3",
   "version": "3.7.11"
  }
 },
 "nbformat": 4,
 "nbformat_minor": 5
}
