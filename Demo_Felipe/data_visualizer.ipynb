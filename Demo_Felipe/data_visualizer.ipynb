{
 "cells": [
  {
   "cell_type": "markdown",
   "id": "4e39fbc6",
   "metadata": {},
   "source": [
    "# DATA VISUALIZER\n"
   ]
  },
  {
   "cell_type": "code",
   "execution_count": 3,
   "id": "fa0ef0ea",
   "metadata": {},
   "outputs": [],
   "source": [
    "import view \n",
    "import match\n",
    "from sfm import SFM\n",
    "import os\n",
    "import numpy as np\n",
    "import logging\n",
    "import open3d as o3d\n"
   ]
  },
  {
   "cell_type": "code",
   "execution_count": 9,
   "id": "c088ce8f",
   "metadata": {},
   "outputs": [],
   "source": [
    "cloud = o3d.io.read_point_cloud(r\"C:\\Users\\lfcas\\Documents\\Internship\\Plants\\Fountain\\points\\8_images.ply\") # Read the point cloud\n",
    "o3d.visualization.draw_geometries([cloud])    "
   ]
  },
  {
   "cell_type": "code",
   "execution_count": 10,
   "id": "e8218179",
   "metadata": {},
   "outputs": [],
   "source": [
    "downpcd = cloud.voxel_down_sample(voxel_size=0.05)\n",
    "o3d.visualization.draw_geometries([downpcd])"
   ]
  },
  {
   "cell_type": "code",
   "execution_count": null,
   "id": "b6832d4a",
   "metadata": {},
   "outputs": [],
   "source": [
    "downpcd.estimate_normals(search_param=o3d.geometry.KDTreeSearchParamHybrid(\n",
    "        radius=0.1, max_nn=30))\n",
    "o3d.visualization.draw_geometries([downpcd])"
   ]
  },
  {
   "cell_type": "code",
   "execution_count": null,
   "id": "9b1e1ac6",
   "metadata": {},
   "outputs": [],
   "source": []
  }
 ],
 "metadata": {
  "kernelspec": {
   "display_name": "Python 3 (ipykernel)",
   "language": "python",
   "name": "python3"
  },
  "language_info": {
   "codemirror_mode": {
    "name": "ipython",
    "version": 3
   },
   "file_extension": ".py",
   "mimetype": "text/x-python",
   "name": "python",
   "nbconvert_exporter": "python",
   "pygments_lexer": "ipython3",
   "version": "3.7.11"
  }
 },
 "nbformat": 4,
 "nbformat_minor": 5
}
